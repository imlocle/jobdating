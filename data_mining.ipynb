{
 "cells": [
  {
   "cell_type": "code",
   "execution_count": 1,
   "metadata": {
    "collapsed": true
   },
   "outputs": [],
   "source": [
    "# imports \n",
    "import pandas as pd\n",
    "import numpy as np\n",
    "import matplotlib.pyplot as plt\n",
    "import seaborn as sns\n",
    "\n",
    "url = \"http://techfair-data.comparably.com/culture/indeed.json\""
   ]
  },
  {
   "cell_type": "code",
   "execution_count": 2,
   "metadata": {
    "collapsed": true
   },
   "outputs": [],
   "source": [
    "df = pd.read_json(url)"
   ]
  },
  {
   "cell_type": "code",
   "execution_count": 60,
   "metadata": {},
   "outputs": [
    {
     "data": {
      "text/plain": [
       "{'city': 'Austin', 'country': 'USA', 'state': 'Texas'}"
      ]
     },
     "execution_count": 60,
     "metadata": {},
     "output_type": "execute_result"
    }
   ],
   "source": [
    "df[\"company\"][\"location\"]"
   ]
  },
  {
   "cell_type": "code",
   "execution_count": 4,
   "metadata": {},
   "outputs": [
    {
     "data": {
      "text/plain": [
       "CEORating                   {'score': 'Top 5%', 'grade': 'A+'}\n",
       "Compensation                {'score': 'Top 5%', 'grade': 'A+'}\n",
       "Diversity                   {'score': 'Top 5%', 'grade': 'A+'}\n",
       "Environment                 {'score': 'Top 5%', 'grade': 'A+'}\n",
       "ExecutiveTeam               {'score': 'Top 5%', 'grade': 'A+'}\n",
       "Gender                     {'score': 'Top 15%', 'grade': 'A-'}\n",
       "Happiness                   {'score': 'Top 5%', 'grade': 'A+'}\n",
       "Leadership                  {'score': 'Top 10%', 'grade': 'A'}\n",
       "Manager                    {'score': 'Top 15%', 'grade': 'A-'}\n",
       "Meetings                    {'score': 'Top 10%', 'grade': 'A'}\n",
       "OfficeCulture               {'score': 'Top 10%', 'grade': 'A'}\n",
       "OverallCulture              {'score': 'Top 5%', 'grade': 'A+'}\n",
       "PerkAndBenefits             {'score': 'Top 5%', 'grade': 'A+'}\n",
       "ProfessionalDevelopment    {'score': 'Top 15%', 'grade': 'A-'}\n",
       "Retention                   {'score': 'Top 5%', 'grade': 'A+'}\n",
       "Sentiment                   {'score': 'Top 5%', 'grade': 'A+'}\n",
       "Team                        {'score': 'Top 10%', 'grade': 'A'}\n",
       "WorkCulture                 {'score': 'Top 5%', 'grade': 'A+'}\n",
       "eNPS                        {'score': 'Top 10%', 'grade': 'A'}\n",
       "location                                                   NaN\n",
       "name                                                       NaN\n",
       "url                                                        NaN\n",
       "Name: culture, dtype: object"
      ]
     },
     "execution_count": 4,
     "metadata": {},
     "output_type": "execute_result"
    }
   ],
   "source": [
    "df[\"culture\"][i]['grade']=='A+'"
   ]
  },
  {
   "cell_type": "markdown",
   "metadata": {},
   "source": [
    "# Create dictionary of culture ratings\n",
    "\n",
    "* Top 5% = A+\n",
    "* Top 10% = A\n",
    "* Top 15% = A-\n",
    "* Top "
   ]
  },
  {
   "cell_type": "code",
   "execution_count": 6,
   "metadata": {},
   "outputs": [
    {
     "data": {
      "text/plain": [
       "22"
      ]
     },
     "execution_count": 6,
     "metadata": {},
     "output_type": "execute_result"
    }
   ],
   "source": [
    "if len(df['culture']) < some_number:\n",
    "    #do not use"
   ]
  },
  {
   "cell_type": "code",
   "execution_count": null,
   "metadata": {
    "collapsed": true
   },
   "outputs": [],
   "source": [
    "# Todo calculations to create our features company vs job seeker (different collections)\n",
    "# Culture Fit\n",
    "# Technical Skill (initially null)\n",
    "# Behavioral/Teamwork compatibility\n",
    "# Size (preferred) - Does Not Apply if no preference\n",
    "# Distance(Radius from Home City/State) - Does Not Apply if open for relocation\n",
    "# industry if applies\n",
    "# compensation if applies (may be too ambitious)"
   ]
  },
  {
   "cell_type": "code",
   "execution_count": null,
   "metadata": {
    "collapsed": true
   },
   "outputs": [],
   "source": [
    "# Save as dictionary\n",
    "# culture_fit_score (? how to weigh features...)\n",
    "# technical_skill (calculated using average scores of people who got accepted)\n",
    "# behavioral/teamwork compatibility (calculated from questionaire/survey for initial assessment) - updates over seeker's career lifetime\n",
    "# company_size\n",
    "# distance\n",
    "# industry - DNA if seeker does not specify\n",
    "# compensation - convert into letter (based off years experience and average/std dev)"
   ]
  },
  {
   "cell_type": "code",
   "execution_count": 47,
   "metadata": {
    "collapsed": true
   },
   "outputs": [],
   "source": [
    "company_name = \"Amazon\"\n",
    "cultural_fit_score = 90\n",
    "technical_skill = 95\n",
    "behavioral = 87 # teamwork\n",
    "size = \"large\"\n",
    "lat_long = [-71.92, 21.42]\n",
    "industry = \"Technology\"\n",
    "compensation = \"A+\"\n",
    "people_accepted_rejected = [\"Jeff\", \"Beau\", \"Loc\"]"
   ]
  },
  {
   "cell_type": "code",
   "execution_count": 48,
   "metadata": {
    "collapsed": true
   },
   "outputs": [],
   "source": [
    "# company collection after data preprocessing and cleaning\n",
    "output_company = {\"name\": company_name, \\\n",
    "                  \"features\": {\"culture fit\": cultural_fit_score, \\\n",
    "                  \"tech_skill\": technical_skill, \\\n",
    "                  \"behavior\": behavioral, \\\n",
    "                  \"size\": size, \\\n",
    "                  \"latlng\": lat_long, \\\n",
    "                  \"ind_type\": industry, \\\n",
    "                  \"comp\": compensation, \\\n",
    "                  \"applicants\": people_accepted_rejected}}"
   ]
  },
  {
   "cell_type": "code",
   "execution_count": 49,
   "metadata": {},
   "outputs": [
    {
     "data": {
      "text/plain": [
       "{'features': {'applicants': ['Jeff', 'Beau', 'Loc'],\n",
       "  'behavior': 87,\n",
       "  'comp': 'A+',\n",
       "  'culture fit': 90,\n",
       "  'ind_type': 'Technology',\n",
       "  'latlng': [-71.92, 21.42],\n",
       "  'size': 'large',\n",
       "  'tech_skill': 95},\n",
       " 'name': 'Amazon'}"
      ]
     },
     "execution_count": 49,
     "metadata": {},
     "output_type": "execute_result"
    }
   ],
   "source": [
    "output_company"
   ]
  },
  {
   "cell_type": "code",
   "execution_count": 19,
   "metadata": {},
   "outputs": [
    {
     "ename": "SyntaxError",
     "evalue": "invalid syntax (<ipython-input-19-8095431faaa8>, line 2)",
     "output_type": "error",
     "traceback": [
      "\u001b[1;36m  File \u001b[1;32m\"<ipython-input-19-8095431faaa8>\"\u001b[1;36m, line \u001b[1;32m2\u001b[0m\n\u001b[1;33m    output_seeker = {\"culture fit\": cultural_fit_score, /\u001b[0m\n\u001b[1;37m                                                        ^\u001b[0m\n\u001b[1;31mSyntaxError\u001b[0m\u001b[1;31m:\u001b[0m invalid syntax\n"
     ]
    }
   ],
   "source": [
    "# job seeker collection after data preprocessing and cleaning\n",
    "output_seeker = {\"culture fit\": cultural_fit_score, /\n",
    "          \"tech_skill\": technical_skill, /\n",
    "          \"behavior\": behavioral, /\n",
    "          \"size\": size, /\n",
    "          \"latlng\": lat_long, /\n",
    "          \"ind_type\": industry, /\n",
    "          \"comp\": compensation}"
   ]
  },
  {
   "cell_type": "code",
   "execution_count": 8,
   "metadata": {},
   "outputs": [
    {
     "data": {
      "text/plain": [
       "{'city': 'Austin', 'country': 'USA', 'state': 'Texas'}"
      ]
     },
     "execution_count": 8,
     "metadata": {},
     "output_type": "execute_result"
    }
   ],
   "source": [
    "# extract to put into google API - obtain lat_long values\n",
    "df['company']['location']"
   ]
  },
  {
   "cell_type": "code",
   "execution_count": 50,
   "metadata": {
    "collapsed": true
   },
   "outputs": [],
   "source": [
    "# import pymongo and upsert outputs into mongo_db (2 collections: company and seeker)\n",
    "# Module used to connect Python with MongoDb\n",
    "import pymongo\n",
    "\n",
    "# The default port used by MongoDB is 27017\n",
    "# https://docs.mongodb.com/manual/reference/default-mongodb-port/\n",
    "conn = 'mongodb://localhost:27017'\n",
    "client = pymongo.MongoClient(conn)\n",
    "\n",
    "# Define the 'classDB' database in Mongo\n",
    "db = client.jobdateDB"
   ]
  },
  {
   "cell_type": "code",
   "execution_count": 51,
   "metadata": {},
   "outputs": [
    {
     "data": {
      "text/plain": [
       "<pymongo.results.InsertOneResult at 0x1fff5bcbe88>"
      ]
     },
     "execution_count": 51,
     "metadata": {},
     "output_type": "execute_result"
    }
   ],
   "source": [
    "# Insert a document into the 'company' collection\n",
    "db.company.insert_one(\n",
    "    output_company\n",
    ")\n",
    "\n",
    "# Update a document\n",
    "#db.company.update_one(\n",
    "#    {'name': 'Ahmed'},\n",
    "#    {'$set':\n",
    "#        {'row': 4}\n",
    "#     }\n",
    "#)\n",
    "\n",
    "## Add an item to a document array\n",
    "#db.classroom.update_one(\n",
    "#    {'name': 'Ahmed'},\n",
    "#    {'$push':\n",
    "#        {'hobbies': 'Listening to country music'}\n",
    "#     }\n",
    "#)\n",
    "\n",
    "## Delete a field from a document\n",
    "#db.classroom.update_one({'name': 'Ahmed'},\n",
    "#                        {$unset:\n",
    "#                         {'gavecandy': \"\"}\n",
    "#                         }\n",
    "#                        )\n",
    "\n",
    "\n",
    "## Delete a document from a collection\n",
    "#db.classroom.delete_one(\n",
    "#    {'name': 'Ahmed'}\n",
    "#)"
   ]
  },
  {
   "cell_type": "code",
   "execution_count": 52,
   "metadata": {},
   "outputs": [
    {
     "name": "stdout",
     "output_type": "stream",
     "text": [
      "{'_id': ObjectId('5aa07c76d05ded31201d7428'), 'name': 'Amazon', 'features': {'culture fit': 90, 'tech_skill': 95, 'behavior': 87, 'size': 'large', 'latlng': [-71.92, 21.42], 'ind_type': 'Technology', 'comp': 'A+', 'applicants': ['Jeff', 'Beau', 'Loc']}}\n"
     ]
    }
   ],
   "source": [
    "# Query all students\n",
    "# Here, db.students refers to the collection 'classroom '\n",
    "companies = db.company.find()\n",
    "\n",
    "# Iterate through each student in the collection\n",
    "for company_name in companies:\n",
    "    print(company_name)"
   ]
  },
  {
   "cell_type": "code",
   "execution_count": 53,
   "metadata": {
    "collapsed": true
   },
   "outputs": [],
   "source": [
    "company = db.company.find() # query all data in db.company collection\n",
    "df_query = pd.DataFrame(list(company)) # insert data into DF"
   ]
  },
  {
   "cell_type": "code",
   "execution_count": 54,
   "metadata": {},
   "outputs": [
    {
     "data": {
      "text/html": [
       "<div>\n",
       "<style>\n",
       "    .dataframe thead tr:only-child th {\n",
       "        text-align: right;\n",
       "    }\n",
       "\n",
       "    .dataframe thead th {\n",
       "        text-align: left;\n",
       "    }\n",
       "\n",
       "    .dataframe tbody tr th {\n",
       "        vertical-align: top;\n",
       "    }\n",
       "</style>\n",
       "<table border=\"1\" class=\"dataframe\">\n",
       "  <thead>\n",
       "    <tr style=\"text-align: right;\">\n",
       "      <th></th>\n",
       "      <th>_id</th>\n",
       "      <th>features</th>\n",
       "      <th>name</th>\n",
       "    </tr>\n",
       "  </thead>\n",
       "  <tbody>\n",
       "    <tr>\n",
       "      <th>0</th>\n",
       "      <td>5aa07c76d05ded31201d7428</td>\n",
       "      <td>{'culture fit': 90, 'tech_skill': 95, 'behavio...</td>\n",
       "      <td>Amazon</td>\n",
       "    </tr>\n",
       "  </tbody>\n",
       "</table>\n",
       "</div>"
      ],
      "text/plain": [
       "                        _id  \\\n",
       "0  5aa07c76d05ded31201d7428   \n",
       "\n",
       "                                            features    name  \n",
       "0  {'culture fit': 90, 'tech_skill': 95, 'behavio...  Amazon  "
      ]
     },
     "execution_count": 54,
     "metadata": {},
     "output_type": "execute_result"
    }
   ],
   "source": [
    "df_query"
   ]
  },
  {
   "cell_type": "code",
   "execution_count": 55,
   "metadata": {},
   "outputs": [
    {
     "data": {
      "text/plain": [
       "{'applicants': ['Jeff', 'Beau', 'Loc'],\n",
       " 'behavior': 87,\n",
       " 'comp': 'A+',\n",
       " 'culture fit': 90,\n",
       " 'ind_type': 'Technology',\n",
       " 'latlng': [-71.92, 21.42],\n",
       " 'size': 'large',\n",
       " 'tech_skill': 95}"
      ]
     },
     "execution_count": 55,
     "metadata": {},
     "output_type": "execute_result"
    }
   ],
   "source": [
    "df_query[\"features\"][0]"
   ]
  },
  {
   "cell_type": "code",
   "execution_count": 56,
   "metadata": {},
   "outputs": [
    {
     "data": {
      "text/plain": [
       "'Amazon'"
      ]
     },
     "execution_count": 56,
     "metadata": {},
     "output_type": "execute_result"
    }
   ],
   "source": [
    "df_query[\"name\"][0]"
   ]
  },
  {
   "cell_type": "code",
   "execution_count": null,
   "metadata": {
    "collapsed": true
   },
   "outputs": [],
   "source": [
    "# Apply KNN Recommender system or item/user based collaborative filtering "
   ]
  },
  {
   "cell_type": "code",
   "execution_count": 73,
   "metadata": {},
   "outputs": [
    {
     "data": {
      "text/plain": [
       "[0.0,\n",
       " 0.07692307692307693,\n",
       " 0.15384615384615385,\n",
       " 0.23076923076923078,\n",
       " 0.3076923076923077,\n",
       " 0.38461538461538464,\n",
       " 0.46153846153846156,\n",
       " 0.5384615384615384,\n",
       " 0.6153846153846154,\n",
       " 0.6923076923076923,\n",
       " 0.7692307692307693,\n",
       " 0.8461538461538461,\n",
       " 0.9230769230769231,\n",
       " 1.0]"
      ]
     },
     "execution_count": 73,
     "metadata": {},
     "output_type": "execute_result"
    }
   ],
   "source": [
    "letters = [\"A+\", \"A\", \"A-\", \"B+\", \"B\", \"B-\", \"C+\", \"C\", \"C-\", \"D+\", \"D\", \"D-\", \"F\"]\n",
    "[x * 1/len(letters) for x in range(0, 14)]\n"
   ]
  },
  {
   "cell_type": "code",
   "execution_count": 91,
   "metadata": {},
   "outputs": [],
   "source": [
    "letters = [\"A+\", \"A\", \"A-\", \"B+\", \"B\", \"B-\", \"C+\", \"C\", \"C-\", \"D+\", \"D\", \"D-\", \"F\"]\n",
    "lis = list(np.linspace(0,1,len(letters)))"
   ]
  },
  {
   "cell_type": "code",
   "execution_count": 93,
   "metadata": {},
   "outputs": [],
   "source": [
    "lis = sorted(list(np.linspace(0,1,len(letters))), reverse=True)"
   ]
  },
  {
   "cell_type": "code",
   "execution_count": 94,
   "metadata": {},
   "outputs": [
    {
     "name": "stdout",
     "output_type": "stream",
     "text": [
      "[1.0, 0.91666666666666663, 0.83333333333333326, 0.75, 0.66666666666666663, 0.58333333333333326, 0.5, 0.41666666666666663, 0.33333333333333331, 0.25, 0.16666666666666666, 0.083333333333333329, 0.0]\n"
     ]
    }
   ],
   "source": [
    "print(lis)"
   ]
  },
  {
   "cell_type": "code",
   "execution_count": null,
   "metadata": {
    "collapsed": true
   },
   "outputs": [],
   "source": []
  }
 ],
 "metadata": {
  "kernelspec": {
   "display_name": "Python 2",
   "language": "python",
   "name": "python2"
  },
  "language_info": {
   "codemirror_mode": {
    "name": "ipython",
    "version": 2
   },
   "file_extension": ".py",
   "mimetype": "text/x-python",
   "name": "python",
   "nbconvert_exporter": "python",
   "pygments_lexer": "ipython2",
   "version": "2.7.14"
  }
 },
 "nbformat": 4,
 "nbformat_minor": 2
}
